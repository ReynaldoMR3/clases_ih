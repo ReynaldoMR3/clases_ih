{
  "nbformat": 4,
  "nbformat_minor": 0,
  "metadata": {
    "colab": {
      "name": "map reduce filter.ipynb",
      "provenance": [],
      "authorship_tag": "ABX9TyMIcSr/ybpvLuW686v7KV3Y",
      "include_colab_link": true
    },
    "kernelspec": {
      "name": "python3",
      "display_name": "Python 3"
    }
  },
  "cells": [
    {
      "cell_type": "markdown",
      "metadata": {
        "id": "view-in-github",
        "colab_type": "text"
      },
      "source": [
        "<a href=\"https://colab.research.google.com/github/ReynaldoMR3/clases_ih/blob/main/map_reduce_filter.ipynb\" target=\"_parent\"><img src=\"https://colab.research.google.com/assets/colab-badge.svg\" alt=\"Open In Colab\"/></a>"
      ]
    },
    {
      "cell_type": "code",
      "metadata": {
        "id": "XUqcF2ZSy1YA",
        "outputId": "6e964221-6fc0-478e-9a36-6439c7739a6e",
        "colab": {
          "base_uri": "https://localhost:8080/",
          "height": 34
        }
      },
      "source": [
        "#La función map recibe un objeto(función) y una secuencia,\n",
        "#despues aplica la función a cada elemento de la secuencia\n",
        "\n",
        "txt = ['lambda functions are anonymous functions.',\n",
        "       'anonymous functions dont have a name.',\n",
        "       'functions are objects in Python.']\n",
        "\n",
        "mark = map(lambda s: (True, s) if 'anonymous' in s else (False, s), txt)\n",
        "print(mark) #nos regresa un objeto map"
      ],
      "execution_count": null,
      "outputs": [
        {
          "output_type": "stream",
          "text": [
            "<map object at 0x7f4efc0a3e80>\n"
          ],
          "name": "stdout"
        }
      ]
    },
    {
      "cell_type": "code",
      "metadata": {
        "id": "x0BVi-DK2nxV",
        "outputId": "cae3635d-9f2f-4d72-d31a-704bd00598dd",
        "colab": {
          "base_uri": "https://localhost:8080/",
          "height": 34
        }
      },
      "source": [
        "print(list(mark))"
      ],
      "execution_count": null,
      "outputs": [
        {
          "output_type": "stream",
          "text": [
            "[(True, 'lambda functions are anonymous functions.'), (True, 'anonymous functions dont have a name.'), (False, 'functions are objects in Python.')]\n"
          ],
          "name": "stdout"
        }
      ]
    },
    {
      "cell_type": "code",
      "metadata": {
        "id": "kCXIedQX21CD",
        "outputId": "b3210e9c-20f1-4598-fabe-a83efc2bf460",
        "colab": {
          "base_uri": "https://localhost:8080/",
          "height": 54
        }
      },
      "source": [
        "slicing = map(lambda s: s.split(), txt)\n",
        "print(list(slicing))"
      ],
      "execution_count": null,
      "outputs": [
        {
          "output_type": "stream",
          "text": [
            "[['lambda', 'functions', 'are', 'anonymous', 'functions.'], ['anonymous', 'functions', 'dont', 'have', 'a', 'name.'], ['functions', 'are', 'objects', 'in', 'Python.']]\n"
          ],
          "name": "stdout"
        }
      ]
    },
    {
      "cell_type": "code",
      "metadata": {
        "id": "8mAs9u643g6o",
        "outputId": "138d577a-aca9-4afd-b9a8-a2d5dcc94dea",
        "colab": {
          "base_uri": "https://localhost:8080/",
          "height": 34
        }
      },
      "source": [
        "upper = map(lambda s: s[0].upper() + s[1:], txt)\n",
        "print(list(upper))"
      ],
      "execution_count": null,
      "outputs": [
        {
          "output_type": "stream",
          "text": [
            "['Lambda functions are anonymous functions.', 'Anonymous functions dont have a name.', 'Functions are objects in Python.']\n"
          ],
          "name": "stdout"
        }
      ]
    },
    {
      "cell_type": "code",
      "metadata": {
        "id": "Dwlj_VFU3zLJ"
      },
      "source": [
        "def square(num):\n",
        "  return num**2"
      ],
      "execution_count": null,
      "outputs": []
    },
    {
      "cell_type": "code",
      "metadata": {
        "id": "Tsz9egKU5dc2",
        "outputId": "b275fbd0-68bd-4aa7-f058-0a3371e347b0",
        "colab": {
          "base_uri": "https://localhost:8080/",
          "height": 34
        }
      },
      "source": [
        "my_nums = [1,2,3,4,5]\n",
        "squares = list(map(square, my_nums))\n",
        "print(squares)"
      ],
      "execution_count": null,
      "outputs": [
        {
          "output_type": "stream",
          "text": [
            "[1, 4, 9, 16, 25]\n"
          ],
          "name": "stdout"
        }
      ]
    },
    {
      "cell_type": "code",
      "metadata": {
        "id": "4mv1Ffya5n4m",
        "outputId": "9de9ebe5-ee1b-4112-97fd-c7c44c9c3100",
        "colab": {
          "base_uri": "https://localhost:8080/",
          "height": 85
        }
      },
      "source": [
        "for i in map(square, [10,24,54,12]):\n",
        "  print(i)"
      ],
      "execution_count": null,
      "outputs": [
        {
          "output_type": "stream",
          "text": [
            "100\n",
            "576\n",
            "2916\n",
            "144\n"
          ],
          "name": "stdout"
        }
      ]
    },
    {
      "cell_type": "code",
      "metadata": {
        "id": "EYLPVJnt5lG6"
      },
      "source": [
        "def splicer(txt):\n",
        "  if len(txt)%2 == 0:\n",
        "    return \"EVEN\"\n",
        "  else:\n",
        "    return txt[0]"
      ],
      "execution_count": null,
      "outputs": []
    },
    {
      "cell_type": "code",
      "metadata": {
        "id": "k3ij0vJs6A_V",
        "outputId": "be76a19b-0d65-49c7-bc3e-be76c60dacdb",
        "colab": {
          "base_uri": "https://localhost:8080/",
          "height": 34
        }
      },
      "source": [
        "even_strings = list(map(splicer,txt)) #no usamos parentesis en la función con map\n",
        "print(even_strings)"
      ],
      "execution_count": null,
      "outputs": [
        {
          "output_type": "stream",
          "text": [
            "['l', 'a', 'EVEN']\n"
          ],
          "name": "stdout"
        }
      ]
    },
    {
      "cell_type": "code",
      "metadata": {
        "id": "H6GFAMLOCkHH"
      },
      "source": [
        "def multiplica(num):\n",
        "  return lambda x: x*num"
      ],
      "execution_count": null,
      "outputs": []
    },
    {
      "cell_type": "code",
      "metadata": {
        "id": "eKCDVu7_Cm8b",
        "outputId": "1fd81748-ca86-40c6-8973-196af6635e7e",
        "colab": {
          "base_uri": "https://localhost:8080/",
          "height": 51
        }
      },
      "source": [
        "lista = [20, 30, 10, 40, 50, 120]\n",
        "por10 = multiplica(10)\n",
        "print(por10)\n",
        "list(map(por10, lista))"
      ],
      "execution_count": null,
      "outputs": [
        {
          "output_type": "stream",
          "text": [
            "<function multiplica.<locals>.<lambda> at 0x7f4efc045ae8>\n"
          ],
          "name": "stdout"
        },
        {
          "output_type": "execute_result",
          "data": {
            "text/plain": [
              "[200, 300, 100, 400, 500, 1200]"
            ]
          },
          "metadata": {
            "tags": []
          },
          "execution_count": 56
        }
      ]
    },
    {
      "cell_type": "code",
      "metadata": {
        "id": "1wlEL8k_Di83",
        "outputId": "3631e147-b2b3-498b-b5f4-becfa620d9fc",
        "colab": {
          "base_uri": "https://localhost:8080/",
          "height": 119
        }
      },
      "source": [
        "temps = [(\"Berlin\", 29), ('Mexico', 28), \n",
        "         ('Japon', 40), ('Korea', 17),\n",
        "         ('España', 32), ('Argentina', 11)\n",
        "         ]\n",
        "\n",
        "celsius = lambda t: (t[0], (9/5)*t[1] + 32)\n",
        "list(map(celsius, temps))"
      ],
      "execution_count": null,
      "outputs": [
        {
          "output_type": "execute_result",
          "data": {
            "text/plain": [
              "[('Berlin', 84.2),\n",
              " ('Mexico', 82.4),\n",
              " ('Japon', 104.0),\n",
              " ('Korea', 62.6),\n",
              " ('España', 89.6),\n",
              " ('Argentina', 51.8)]"
            ]
          },
          "metadata": {
            "tags": []
          },
          "execution_count": 59
        }
      ]
    },
    {
      "cell_type": "code",
      "metadata": {
        "id": "VJuw0KjB6HXW"
      },
      "source": [
        "#filter function\n",
        "\n",
        "def check_even(num):\n",
        "  return num%2 == 0"
      ],
      "execution_count": null,
      "outputs": []
    },
    {
      "cell_type": "code",
      "metadata": {
        "id": "jqEGA2NN6kZo"
      },
      "source": [
        "nums = [1,3,124,5,21,5,2919,293,123,23]"
      ],
      "execution_count": null,
      "outputs": []
    },
    {
      "cell_type": "code",
      "metadata": {
        "id": "PVDHU0Mj6qQQ",
        "outputId": "7cadd62e-8f73-494d-8018-b4bcafdd336c",
        "colab": {
          "base_uri": "https://localhost:8080/",
          "height": 34
        }
      },
      "source": [
        "filter(check_even, numeros) #filtra basandose en la condición de la condicion, la funcion tiene que regresar true or false"
      ],
      "execution_count": null,
      "outputs": [
        {
          "output_type": "execute_result",
          "data": {
            "text/plain": [
              "<filter at 0x7f4efc0a3da0>"
            ]
          },
          "metadata": {
            "tags": []
          },
          "execution_count": 34
        }
      ]
    },
    {
      "cell_type": "code",
      "metadata": {
        "id": "oatBIHNT6z8L",
        "outputId": "39526436-6e2f-4044-a84b-2a63f138e636",
        "colab": {
          "base_uri": "https://localhost:8080/",
          "height": 34
        }
      },
      "source": [
        "list(filter(check_even, nums))"
      ],
      "execution_count": null,
      "outputs": [
        {
          "output_type": "execute_result",
          "data": {
            "text/plain": [
              "[124]"
            ]
          },
          "metadata": {
            "tags": []
          },
          "execution_count": 35
        }
      ]
    },
    {
      "cell_type": "code",
      "metadata": {
        "id": "wlPuZhwc62JF",
        "outputId": "d9b7cc8c-c83f-4f7e-f130-73680815da6e",
        "colab": {
          "base_uri": "https://localhost:8080/",
          "height": 34
        }
      },
      "source": [
        "list(filter(lambda x: x%3==0, nums))"
      ],
      "execution_count": null,
      "outputs": [
        {
          "output_type": "execute_result",
          "data": {
            "text/plain": [
              "[3, 21, 2919, 123]"
            ]
          },
          "metadata": {
            "tags": []
          },
          "execution_count": 36
        }
      ]
    },
    {
      "cell_type": "code",
      "metadata": {
        "id": "b9yHS-vm7ani"
      },
      "source": [
        "def num_primo(num):\n",
        "  if num == 2:\n",
        "    return True\n",
        "  elif num <=1 or num % 2 == 0:\n",
        "    return False\n",
        "  else:\n",
        "    for i in range(3, num, 2):\n",
        "      if num % i == 0:\n",
        "        return False\n",
        "  return True"
      ],
      "execution_count": null,
      "outputs": []
    },
    {
      "cell_type": "code",
      "metadata": {
        "id": "r6vb6LvS83Xv",
        "outputId": "4128cd0c-6272-4bce-a00a-d7f860916c33",
        "colab": {
          "base_uri": "https://localhost:8080/",
          "height": 34
        }
      },
      "source": [
        "numeros = [9283109, 923819, 2039, 12931, 2314, 291, 7, 11, 15, 231]\n",
        "list(filter(num_primo, numeros))"
      ],
      "execution_count": null,
      "outputs": [
        {
          "output_type": "execute_result",
          "data": {
            "text/plain": [
              "[2039, 7, 11]"
            ]
          },
          "metadata": {
            "tags": []
          },
          "execution_count": 43
        }
      ]
    },
    {
      "cell_type": "code",
      "metadata": {
        "id": "QTnqvCccBSCu",
        "outputId": "c2d307a3-753b-41c4-80ee-3a5dbdfd0dd9",
        "colab": {
          "base_uri": "https://localhost:8080/",
          "height": 34
        }
      },
      "source": [
        "list(filter(lambda x: x%2==0, [12,34,849,29,745]))"
      ],
      "execution_count": null,
      "outputs": [
        {
          "output_type": "execute_result",
          "data": {
            "text/plain": [
              "[12, 34]"
            ]
          },
          "metadata": {
            "tags": []
          },
          "execution_count": 49
        }
      ]
    },
    {
      "cell_type": "code",
      "metadata": {
        "id": "YmPUy135EgDR"
      },
      "source": [
        "from statistics import mean, median, mode\n",
        "from random import choice\n",
        "floats = [1.3, 5.2, 8.4, 12.5, 84.3, 9.15]\n",
        "data = [choice(floats) for i in range(50)]\n",
        "avg = mean(data)\n",
        "mdn = median(data)\n",
        "mda = mode(data)"
      ],
      "execution_count": null,
      "outputs": []
    },
    {
      "cell_type": "code",
      "metadata": {
        "id": "FZveMpFKFmJy",
        "outputId": "7b4a6a2f-5cd7-4dfb-b795-a828bbdab19f",
        "colab": {
          "base_uri": "https://localhost:8080/",
          "height": 34
        }
      },
      "source": [
        "list(filter(lambda x: x > avg, data))"
      ],
      "execution_count": null,
      "outputs": [
        {
          "output_type": "execute_result",
          "data": {
            "text/plain": [
              "[84.3, 84.3, 84.3, 84.3, 84.3, 84.3, 84.3, 84.3]"
            ]
          },
          "metadata": {
            "tags": []
          },
          "execution_count": 62
        }
      ]
    },
    {
      "cell_type": "code",
      "metadata": {
        "id": "-m5tqHmSF-Un",
        "outputId": "2afbd89b-a54a-413d-d4be-061be0f9c5af",
        "colab": {
          "base_uri": "https://localhost:8080/",
          "height": 34
        }
      },
      "source": [
        "list(filter(lambda x: x == mdn, data))"
      ],
      "execution_count": null,
      "outputs": [
        {
          "output_type": "execute_result",
          "data": {
            "text/plain": [
              "[9.15, 9.15, 9.15, 9.15, 9.15, 9.15, 9.15, 9.15, 9.15, 9.15, 9.15, 9.15, 9.15]"
            ]
          },
          "metadata": {
            "tags": []
          },
          "execution_count": 65
        }
      ]
    },
    {
      "cell_type": "code",
      "metadata": {
        "id": "Fsm3qBRnGZtP",
        "outputId": "dccd2174-ab0a-480e-8fba-8f63a5fedbfa",
        "colab": {
          "base_uri": "https://localhost:8080/",
          "height": 493
        }
      },
      "source": [
        "list(filter(lambda x: x >= mda, data))"
      ],
      "execution_count": null,
      "outputs": [
        {
          "output_type": "execute_result",
          "data": {
            "text/plain": [
              "[12.5,\n",
              " 12.5,\n",
              " 12.5,\n",
              " 12.5,\n",
              " 84.3,\n",
              " 84.3,\n",
              " 9.15,\n",
              " 84.3,\n",
              " 9.15,\n",
              " 9.15,\n",
              " 84.3,\n",
              " 9.15,\n",
              " 12.5,\n",
              " 12.5,\n",
              " 9.15,\n",
              " 9.15,\n",
              " 9.15,\n",
              " 84.3,\n",
              " 9.15,\n",
              " 9.15,\n",
              " 9.15,\n",
              " 12.5,\n",
              " 9.15,\n",
              " 84.3,\n",
              " 9.15,\n",
              " 84.3,\n",
              " 84.3,\n",
              " 9.15]"
            ]
          },
          "metadata": {
            "tags": []
          },
          "execution_count": 66
        }
      ]
    },
    {
      "cell_type": "code",
      "metadata": {
        "id": "lK0DyKNUG2vz",
        "outputId": "d269756e-b438-44f3-97d3-ba53fcdae3b0",
        "colab": {
          "base_uri": "https://localhost:8080/",
          "height": 34
        }
      },
      "source": [
        "vacios = [\"\", \"audi\", \"toyota\", \"hyundai\", \"\", \"\", \"mercedez\"]\n",
        "list(filter(None, vacios))"
      ],
      "execution_count": null,
      "outputs": [
        {
          "output_type": "execute_result",
          "data": {
            "text/plain": [
              "['audi', 'toyota', 'hyundai', 'mercedez']"
            ]
          },
          "metadata": {
            "tags": []
          },
          "execution_count": 67
        }
      ]
    },
    {
      "cell_type": "code",
      "metadata": {
        "id": "KUTF_fuV85Vk",
        "outputId": "72a1d0e2-995b-41d1-89dd-de0db70c7a65",
        "colab": {
          "base_uri": "https://localhost:8080/",
          "height": 34
        }
      },
      "source": [
        "nums = list(range(10))\n",
        "x = nums[0]\n",
        "for i in nums[1:]:\n",
        "  x = x - i\n",
        "print(x)"
      ],
      "execution_count": null,
      "outputs": [
        {
          "output_type": "stream",
          "text": [
            "-45\n"
          ],
          "name": "stdout"
        }
      ]
    },
    {
      "cell_type": "code",
      "metadata": {
        "id": "njSZEiE0-F30",
        "outputId": "f9f7a6db-2e91-46e5-a947-e625c96f6d2d",
        "colab": {
          "base_uri": "https://localhost:8080/",
          "height": 34
        }
      },
      "source": [
        "from functools import reduce\n",
        "reduce(lambda x, y: x-y, nums)"
      ],
      "execution_count": null,
      "outputs": [
        {
          "output_type": "execute_result",
          "data": {
            "text/plain": [
              "-45"
            ]
          },
          "metadata": {
            "tags": []
          },
          "execution_count": 71
        }
      ]
    },
    {
      "cell_type": "code",
      "metadata": {
        "id": "izBULGwgH3kr",
        "outputId": "303361fa-fbf3-4b00-9837-b0075be18964",
        "colab": {
          "base_uri": "https://localhost:8080/",
          "height": 34
        }
      },
      "source": [
        "diez = [10, 10, 10, 10, 10, 10]\n",
        "a = 1\n",
        "for i in diez:\n",
        "  a = i * a\n",
        "\n",
        "print(a)"
      ],
      "execution_count": null,
      "outputs": [
        {
          "output_type": "stream",
          "text": [
            "1000000\n"
          ],
          "name": "stdout"
        }
      ]
    },
    {
      "cell_type": "code",
      "metadata": {
        "id": "Fa7Qw4HlIe-s",
        "outputId": "e8394bf6-7cd5-4a6d-a701-cf35b9d54e0d",
        "colab": {
          "base_uri": "https://localhost:8080/",
          "height": 34
        }
      },
      "source": [
        "reduce(lambda x, y: x*y, diez)"
      ],
      "execution_count": null,
      "outputs": [
        {
          "output_type": "execute_result",
          "data": {
            "text/plain": [
              "1000000"
            ]
          },
          "metadata": {
            "tags": []
          },
          "execution_count": 77
        }
      ]
    },
    {
      "cell_type": "code",
      "metadata": {
        "id": "GLCiu0OjIwpR",
        "outputId": "69ca37e4-6e97-46ee-9d70-7d00055e7a5e",
        "colab": {
          "base_uri": "https://localhost:8080/",
          "height": 34
        }
      },
      "source": [
        "reduce(lambda x, y: x+y, [1,2,3,4,5])"
      ],
      "execution_count": null,
      "outputs": [
        {
          "output_type": "execute_result",
          "data": {
            "text/plain": [
              "15"
            ]
          },
          "metadata": {
            "tags": []
          },
          "execution_count": 83
        }
      ]
    },
    {
      "cell_type": "code",
      "metadata": {
        "id": "Dv8QCI4EJk8k"
      },
      "source": [
        ""
      ],
      "execution_count": null,
      "outputs": []
    }
  ]
}